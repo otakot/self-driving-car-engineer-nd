{
 "cells": [
  {
   "cell_type": "markdown",
   "metadata": {},
   "source": [
    "## Import all required packages"
   ]
  },
  {
   "cell_type": "code",
   "execution_count": 323,
   "metadata": {
    "collapsed": true
   },
   "outputs": [],
   "source": [
    "#importing required packages\n",
    "import matplotlib.pyplot as plt\n",
    "import matplotlib.image as mpimg\n",
    "import numpy as np\n",
    "import cv2\n",
    "import os\n",
    "import math\n",
    "from moviepy.editor import VideoFileClip\n",
    "from IPython.display import HTML\n",
    "\n",
    "%matplotlib inline"
   ]
  },
  {
   "cell_type": "markdown",
   "metadata": {},
   "source": [
    "## Declare helper functions"
   ]
  },
  {
   "cell_type": "code",
   "execution_count": 361,
   "metadata": {},
   "outputs": [],
   "source": [
    "def grayscale(img):\n",
    "    \"\"\"Applies the Grayscale transform\n",
    "    This will return an image with only one color channel\n",
    "    but NOTE: to see the returned image as grayscale\n",
    "    (assuming your grayscaled image is called 'gray')\n",
    "    you should call plt.imshow(gray, cmap='gray')\"\"\"\n",
    "    return cv2.cvtColor(img, cv2.COLOR_RGB2GRAY)\n",
    "    \n",
    "def canny(img, low_threshold, high_threshold):\n",
    "    \"\"\"Applies the Canny transform\"\"\"\n",
    "    return cv2.Canny(img, low_threshold, high_threshold)\n",
    "\n",
    "def gaussian_blur(img, kernel_size):\n",
    "    \"\"\"Applies a Gaussian Noise kernel\"\"\"\n",
    "    return cv2.GaussianBlur(img, (kernel_size, kernel_size), 0)\n",
    "\n",
    "def region_of_interest(img, vertices):\n",
    "    \"\"\"\n",
    "    Applies an image mask.\n",
    "    \n",
    "    Only keeps the region of the image defined by the polygon\n",
    "    formed from `vertices`. The rest of the image is set to black.\n",
    "    \"\"\"\n",
    "    #defining a blank mask to start with\n",
    "    mask = np.zeros_like(img)   \n",
    "    \n",
    "    #defining a 3 channel or 1 channel color to fill the mask with depending on the input image\n",
    "    if len(img.shape) > 2:\n",
    "        channel_count = img.shape[2]  # i.e. 3 or 4 depending on your image\n",
    "        ignore_mask_color = (255,) * channel_count\n",
    "    else:\n",
    "        ignore_mask_color = 255\n",
    "        \n",
    "    #filling pixels inside the polygon defined by \"vertices\" with the fill color    \n",
    "    cv2.fillPoly(mask, vertices, ignore_mask_color)\n",
    "    \n",
    "    #returning the image only where mask pixels are nonzero\n",
    "    masked_image = cv2.bitwise_and(img, mask)\n",
    "    return masked_image\n",
    "\n",
    "\n",
    "def draw_lines(img, lines, color=[0, 255, 0], thickness=2):\n",
    "    \"\"\"\n",
    "    \n",
    "    This function draws `lines` with `color` and `thickness`.    \n",
    "    Lines are drawn on the image inplace (mutates the image).\n",
    "    If you want to make the lines semi-transparent, think about combining\n",
    "    this function with the weighted_img() function below\n",
    "    \"\"\"\n",
    "    for line in lines:\n",
    "        for x1,y1,x2,y2 in line:\n",
    "            cv2.line(img, (x1, y1), (x2, y2), color, thickness)\n",
    "\n",
    "def hough_lines(img, rho, theta, threshold, min_line_len, max_line_gap):\n",
    "    \"\"\"\n",
    "    `img` should be the output of a Canny transform.\n",
    "        \n",
    "    Returns an image with hough lines drawn.\n",
    "    \"\"\"\n",
    "    lines = cv2.HoughLinesP(img, rho, theta, threshold, np.array([]), minLineLength=min_line_len, maxLineGap=max_line_gap)\n",
    "    line_img = np.zeros((img.shape[0], img.shape[1], 3), dtype=np.uint8)\n",
    "    draw_lines(line_img, lines, [255, 0, 0], 3)\n",
    "    return line_img\n",
    "\n",
    "def weighted_img(img, initial_img, α=0.8, β=1., λ=0.):\n",
    "    \"\"\"\n",
    "    `img` is the output of the hough_lines(), An image with lines drawn on it.\n",
    "    Should be a blank image (all black) with lines drawn on it.\n",
    "    \n",
    "    `initial_img` should be the image before any processing.\n",
    "    \n",
    "    The result image is computed as follows:\n",
    "    \n",
    "    initial_img * α + img * β + λ\n",
    "    NOTE: initial_img and img must be the same shape!\n",
    "    \"\"\"\n",
    "    return cv2.addWeighted(initial_img, α, img, β, λ)\n",
    "\n",
    "def draw_solid_lines(img, lines, y_min, thickness=5, color=[0, 255, 0]):\n",
    "    \"\"\"\n",
    "    Draws two solid lines (left and right), that etrapolate given line segments.\n",
    "    Solid lines are drawn in color debined by 'color' rgb array, with thinkness\n",
    "    value defined 'thickness', start from bottom of the image and finish at y = y_min\n",
    "    \n",
    "    \"\"\"\n",
    "    # Arrays for storing start and finish points of given segments for left and right lines\n",
    "    left_segment_start_points = []\n",
    "    left_segment_finish_points = []\n",
    " \n",
    "    right_segment_start_points = []\n",
    "    right_segment_finish_points = []\n",
    "    \n",
    "    min_valid_slope = 0.5\n",
    "    max_valid_slope = 0.8\n",
    "    \n",
    "    # Parse provided lines segments and fetch theit start and finish points into proper arrays\n",
    "    for line in lines:\n",
    "        for x0,y0,x1,y1 in line:\n",
    "            slope = (y1-y0)/(x1-x0) # calculate slope of line segment\n",
    "            if slope >= 0:\n",
    "                # positive slope defines the segment of right line\n",
    "                if slope < min_valid_slope or slope > max_valid_slope: # Ignore all artefact lines with slope outside expected boundaries\n",
    "                    continue  \n",
    "                right_segment_start_points.append([x0, y0])\n",
    "                right_segment_finish_points.append([x1, y1])\n",
    "            else:\n",
    "                # negative slope defines the segment of left line\n",
    "                if slope > -min_valid_slope or slope < -max_valid_slope: # Ignore all artefact lineswith slope outside expected boundaries\n",
    "                    continue \n",
    "                left_segment_start_points.append([x0, y0])\n",
    "                left_segment_finish_points.append([x1, y1])\n",
    "          \n",
    "    y_max = img.shape[0] # overlayed detected lines should start from the bottom of the image   \n",
    "    if (len(right_segment_start_points) > 0 and len(right_segment_finish_points) > 0):\n",
    "        x0,y0,x1,y1 = build_line_from_segments(right_segment_start_points, right_segment_finish_points, y_min, y_max)\n",
    "        # Draw calculated right line on the image\n",
    "        cv2.line(img, (x0, y0), (x1, y1), color, thickness)\n",
    "        \n",
    "    if (len(left_segment_start_points) > 0 and len(left_segment_finish_points) > 0):\n",
    "        x0,y0,x1,y1 = build_line_from_segments(left_segment_start_points, left_segment_finish_points, y_min, y_max)\n",
    "        # Draw calculated left line on the image\n",
    "        cv2.line(img, (x0, y0), (x1, y1), color, thickness)\n",
    "\n",
    "def build_line_from_segments(segment_start_points, segment_finish_points, y_min, y_max):\n",
    "    \"\"\"\n",
    "    Calculates coordinates of the line that extrapolates given line segments\n",
    "    'y_min' is upped boundary by Y axle of calculated line\n",
    "    'y_max' is the lower boundary by Y axle of tcalculated he line\n",
    "    \n",
    "    \"\"\"            \n",
    "    # Calculate the mean for all stored start/finish points of provided line segments\n",
    "    segment_start_points_mean = np.mean(segment_start_points, axis=0)\n",
    "    segment_finish_points_mean = np.mean(segment_finish_points, axis=0)\n",
    "   \n",
    "    # Calculate the slope value for resulting line\n",
    "    slope = (segment_finish_points_mean[1] - segment_start_points_mean[1]) / (segment_finish_points_mean[0] - segment_start_points_mean[0])\n",
    "    \n",
    "    # Caclulate the intercept value for resulting line\n",
    "    intercept = segment_finish_points_mean[1] - slope * segment_finish_points_mean[0]\n",
    "     \n",
    "    # Calculate coordinates for resulting line\n",
    "    y0 = y_min\n",
    "    x0 = int((y0 - intercept) / slope)\n",
    "    \n",
    "    y1 = y_max  \n",
    "    x1 = int((y1 - intercept) / slope)\n",
    "    \n",
    "    return x0,y0,x1,y1\n",
    "\n",
    "def hough_solid_lines(img, rho, theta, threshold, min_line_len, max_line_gap):\n",
    "    \"\"\"\n",
    "    Returns the given image with drawn left and right solid lines.\n",
    "    Drawn lines are calculated using hough transformation\n",
    "    and further extrapolation of calculated line segments.\n",
    "    \n",
    "    `img` should be the output of a Canny Edge transformation.\n",
    "\n",
    "    \"\"\"\n",
    "    lines = cv2.HoughLinesP(img, rho, theta, threshold, np.array([]),\n",
    "                            minLineLength=min_line_len, maxLineGap=max_line_gap)\n",
    "    line_img = np.zeros((img.shape[0], img.shape[1], 3), dtype=np.uint8)\n",
    "    # top of drawn lines should be limited by a horizont line that is bit lower than middle of the picture height\n",
    "    draw_solid_lines(line_img, lines, int(line_img.shape[0]/2) + 80) \n",
    "    return line_img    \n",
    "\n",
    "def augument_image_with_lane_lines(img):\n",
    "    \"\"\"\n",
    "    This function represent the pipeline for detecting lines on the road lane displayed in given image 'img'\n",
    "    \n",
    "    `img` is the original image to be processed\n",
    "   \n",
    "    Returns the original image 'img' with detected lane lines overlayed\n",
    "    \"\"\"\n",
    "    # define params for algorythm tuning\n",
    "    blur_kernel_size = 3\n",
    "    canny_low_threshold = 50\n",
    "    canny_high_threshold = 217\n",
    "\n",
    "    hough_tf_rho = 2 # distance resolution in pixels of the Hough grid\n",
    "    hough_tf_theta = np.pi/180 # angular resolution in radians of the Hough grid\n",
    "    hough_tf_threshold = 15     # minimum number of votes (intersections in Hough grid cell)\n",
    "    hough_tf_min_line_length = 40 #minimum number of pixels making up a line\n",
    "    hough_tf_max_line_gap = 20   # maximum gap in pixels between connectable line segments\n",
    "    \n",
    "    img_height = img.shape[0]\n",
    "    img_width = img.shape[1]\n",
    "\n",
    "    # Get greyscalled copy of original image\n",
    "    grayscale_image = grayscale(img)\n",
    "  \n",
    "    # apply Gaussian smoothing to grayscale image\n",
    "    blured_grayscale_image = gaussian_blur(grayscale_image, blur_kernel_size)\n",
    "\n",
    "    # apply Canny edge detection on blured grayscale image\n",
    "    canny_edges_image = canny(blured_grayscale_image, canny_low_threshold, canny_high_threshold)\n",
    "\n",
    "    # define vertices of 'region of interest' polygon\n",
    "    polygon_vertices = np.array([[(100, img_height),(img_width - 100, img_height), (img_width/2 + 70, img_height/2 + 70), (img_width/2 - 70, img_height/2 + 70)]], dtype=np.int32)\n",
    "\n",
    "    # create a masked edges image (mask out everything excpet the region of interest)\n",
    "    masked_canny_edges_image = region_of_interest(canny_edges_image, polygon_vertices)\n",
    "\n",
    "    # apply Hough transformation to masked edge detected image to get image with detected lines drawn (additionally extrapolated)\n",
    "    lines = hough_solid_lines(masked_canny_edges_image, hough_tf_rho, hough_tf_theta, hough_tf_threshold, hough_tf_min_line_length, hough_tf_max_line_gap)\n",
    "\n",
    "    # draw detected lines on top of original image (by overlaying two images)\n",
    "    image_with_lines = weighted_img(lines, img)\n",
    "    return image_with_lines\n",
    "\n",
    "def process_images(img_input_dir, img_output_dir):\n",
    "    \"\"\"\n",
    "    Processes all images in the directory 'img_input_dir'\n",
    "    and stores the resulting images in 'img_output_dir' directory\n",
    "    with the same file names as source image files\n",
    "    \n",
    "    \"\"\"\n",
    "\n",
    "    for file_name in os.listdir(img_input_dir):\n",
    "        # Skip all files not having .jpg extension.\n",
    "        if not file_name.endswith(\".jpg\"):\n",
    "            continue\n",
    "        \n",
    "        # read in the original image\n",
    "        original_image = mpimg.imread(img_input_dir + file_name)\n",
    "        # process image\n",
    "        augumented_image = augument_image_with_lane_lines(original_image)\n",
    "        # artificially convert colors rgb to bgr to make cv2 to store the image in rgb\n",
    "        image_with_lines_bgr = cv2.cvtColor(augumented_image, cv2.COLOR_RGB2BGR)\n",
    "        \n",
    "        # save processed image to file with original name into output directory\n",
    "        cv2.imwrite(img_output_dir + file_name, image_with_lines_bgr)"
   ]
  },
  {
   "cell_type": "markdown",
   "metadata": {},
   "source": [
    "## Test the lane finding pipeline on bunch of test images"
   ]
  },
  {
   "cell_type": "code",
   "execution_count": 362,
   "metadata": {
    "scrolled": false
   },
   "outputs": [],
   "source": [
    "# call a processing pipeline for all images in \"test_images/\" directory\n",
    "# and store processed images in \"test_images_output/\" with same name \n",
    "process_images(\"test_images/\", \"test_images_output/\")"
   ]
  },
  {
   "cell_type": "markdown",
   "metadata": {},
   "source": [
    "## Test lane finding pipeline on several video files"
   ]
  },
  {
   "cell_type": "code",
   "execution_count": 329,
   "metadata": {
    "scrolled": true
   },
   "outputs": [
    {
     "name": "stdout",
     "output_type": "stream",
     "text": [
      "[MoviePy] >>>> Building video test_videos_output/solidWhiteRight.mp4\n",
      "[MoviePy] Writing video test_videos_output/solidWhiteRight.mp4\n"
     ]
    },
    {
     "name": "stderr",
     "output_type": "stream",
     "text": [
      "100%|█████████▉| 221/222 [00:06<00:00, 35.75it/s]\n"
     ]
    },
    {
     "name": "stdout",
     "output_type": "stream",
     "text": [
      "[MoviePy] Done.\n",
      "[MoviePy] >>>> Video ready: test_videos_output/solidWhiteRight.mp4 \n",
      "\n",
      "CPU times: user 2.29 s, sys: 300 ms, total: 2.59 s\n",
      "Wall time: 7.06 s\n"
     ]
    }
   ],
   "source": [
    "# test pipeline on video file solidWhiteRight.mp4 and store resulting video into 'test_videos_output'directory\n",
    "white_output = 'test_videos_output/solidWhiteRight.mp4'\n",
    "clip1 = VideoFileClip(\"test_videos/solidWhiteRight.mp4\")\n",
    "white_clip = clip1.fl_image(augument_image_with_lane_lines) \n",
    "%time white_clip.write_videofile(white_output, audio=False)"
   ]
  },
  {
   "cell_type": "code",
   "execution_count": 328,
   "metadata": {
    "scrolled": true
   },
   "outputs": [
    {
     "name": "stdout",
     "output_type": "stream",
     "text": [
      "[MoviePy] >>>> Building video test_videos_output/solidYellowLeft.mp4\n",
      "[MoviePy] Writing video test_videos_output/solidYellowLeft.mp4\n"
     ]
    },
    {
     "name": "stderr",
     "output_type": "stream",
     "text": [
      "100%|█████████▉| 681/682 [00:21<00:00, 31.20it/s]\n"
     ]
    },
    {
     "name": "stdout",
     "output_type": "stream",
     "text": [
      "[MoviePy] Done.\n",
      "[MoviePy] >>>> Video ready: test_videos_output/solidYellowLeft.mp4 \n",
      "\n",
      "CPU times: user 7.51 s, sys: 1 s, total: 8.51 s\n",
      "Wall time: 22.8 s\n"
     ]
    }
   ],
   "source": [
    "# test the pipeline on video file solidYellowLeft.mp4 and store resulting video into 'test_videos_output' directory\n",
    "yellow_output = 'test_videos_output/solidYellowLeft.mp4'\n",
    "clip2 = VideoFileClip('test_videos/solidYellowLeft.mp4')\n",
    "yellow_clip = clip2.fl_image(augument_image_with_lane_lines)\n",
    "%time yellow_clip.write_videofile(yellow_output, audio=False)"
   ]
  },
  {
   "cell_type": "code",
   "execution_count": null,
   "metadata": {
    "collapsed": true
   },
   "outputs": [],
   "source": []
  }
 ],
 "metadata": {
  "anaconda-cloud": {},
  "kernelspec": {
   "display_name": "Python 3",
   "language": "python",
   "name": "python3"
  },
  "language_info": {
   "codemirror_mode": {
    "name": "ipython",
    "version": 3
   },
   "file_extension": ".py",
   "mimetype": "text/x-python",
   "name": "python",
   "nbconvert_exporter": "python",
   "pygments_lexer": "ipython3",
   "version": "3.5.2"
  },
  "widgets": {
   "state": {},
   "version": "1.1.2"
  }
 },
 "nbformat": 4,
 "nbformat_minor": 1
}
